{
 "cells": [
  {
   "cell_type": "markdown",
   "metadata": {},
   "source": [
    "# Webcam Vitals Tracker (TEST)\n"
   ]
  },
  {
   "cell_type": "markdown",
   "metadata": {},
   "source": [
    "### By Krishna Vijay Samayamantri"
   ]
  },
  {
   "cell_type": "markdown",
   "metadata": {},
   "source": [
    "## Video Capture from Webcam"
   ]
  },
  {
   "cell_type": "code",
   "execution_count": 1,
   "metadata": {},
   "outputs": [],
   "source": [
    "import numpy as np\n",
    "import cv2\n",
    "\n",
    "cap = cv2.VideoCapture(0)\n",
    "\n",
    "while(True):\n",
    "    # Capture frame-by-frame\n",
    "    ret, frame = cap.read()\n",
    "    \n",
    "   \n",
    "    # Draw a rectangle on forehead\n",
    "    h = 96\n",
    "    w = 128\n",
    "    x = 240\n",
    "    y = 80\n",
    "#     forehead = frame[y:y+h, x:x+w, :]\n",
    "#     forehead_blue, forehead_green, forehead_red = cv2.split(forehead)\n",
    "#     forehead_blue = frame[y:y+h, x:x+w, 0]\n",
    "#     forehead_green = frame[y:y+h, x:x+w, 1]\n",
    "#     forehead_red = frame[y:y+h, x:x+w, 2]\n",
    "\n",
    "    frame2 = cv2.rectangle(frame,(x,y),(x+w,y+h),(0,255,0),3)\n",
    "#     # Draw 2 rectangles on cheeks\n",
    "#     frame = cv2.rectangle(frame,(250,180),(290,260),(255,0,0),3)\n",
    "#     frame = cv2.rectangle(frame,(350,180),(390,260),(0,0,255),3)\n",
    "\n",
    "\n",
    "    # Display the resulting frame\n",
    "    cv2.imshow('frame',frame2)\n",
    "#     cv2.imshow('forehead', forehead)\n",
    "#     cv2.imshow('blue',forehead_blue)\n",
    "#     cv2.imshow('green',forehead_green)\n",
    "#     cv2.imshow('red',forehead_red)\n",
    "    key = cv2.waitKey(1) & 0xFF\n",
    "    if key == ord('c'):\n",
    "        forehead = frame[y:y+h, x:x+w, :]\n",
    "        forehead_blue, forehead_green, forehead_red = cv2.split(forehead)\n",
    "        \n",
    "        avg_blue = np.mean(forehead_blue)\n",
    "        avg_green = np.mean(forehead_green)\n",
    "        avg_red = np.mean(forehead_red)\n",
    "        print(avg_blue,\" \", avg_green, \" \", avg_red)\n",
    "        \n",
    "    elif key == ord('q'):\n",
    "        break\n",
    "\n",
    "# When everything done, release the capture\n",
    "cap.release()\n",
    "cv2.destroyAllWindows()"
   ]
  },
  {
   "cell_type": "code",
   "execution_count": null,
   "metadata": {},
   "outputs": [],
   "source": [
    "frame"
   ]
  },
  {
   "cell_type": "code",
   "execution_count": null,
   "metadata": {},
   "outputs": [],
   "source": [
    "frame[:,:,0]"
   ]
  },
  {
   "cell_type": "code",
   "execution_count": null,
   "metadata": {},
   "outputs": [],
   "source": [
    "cv2.imshow('blue', frame[:,:,0])"
   ]
  },
  {
   "cell_type": "code",
   "execution_count": null,
   "metadata": {},
   "outputs": [],
   "source": [
    "import numpy as np\n",
    "import pandas as pd\n",
    "import cv2\n",
    "# from pylepton import Lepton\n",
    "import time\n",
    "import datetime\n",
    "import csv\n",
    "\n",
    "class thermalFrame:\n",
    "\n",
    "    newFrame = []       # New Frame captured from FLIR camera. Frame is a 2D list\n",
    "    FrameId = \"\"        # Frame ID is the frame number used as suffix for image names\n",
    "    TimeList = []       # List of TimeStamps\n",
    "    TempList = []       # List of average Temperature per Frame\n",
    "\n",
    "    def __init__(self):\n",
    "        self.newFrame = [] # Contains current frame (Single frame (2D array) at a time)\n",
    "        self.TimeList = [] # Full Arrays (useful after full execution)\n",
    "        self.TempList = [] # Full Arrays (useful after full execution)\n",
    "        self.FrameId = 1   #  Contains current frame ID (Single)\n",
    "\n",
    "    def captureFrame(self):\n",
    "        with cv2.VideoCapture(0) as l:\n",
    "            a,_ = l.capture()\n",
    "      \n",
    "        cv2.normalize(a, a, 0, 65535, cv2.NORM_MINMAX) # extend contrast\n",
    "        np.right_shift(a, 8, a) # fit data into 8 bits\n",
    "        cv2.imwrite(\"capture\"+str(self.FrameId)+\".png\", np.uint8(a)) # write it!\n",
    "        self.FrameId = self.FrameId+1\n",
    "        self.newFrame = a\n",
    "\n",
    "    def processData(self, t0):\n",
    "        if(len(self.newFrame) != 0):\n",
    "            self.TempList.append(np.mean(self.newFrame))\n",
    "            #ts = datetime.datetime.now().strftime(\"%Y-%m-%d %H:%M:%S:%f\")[:-3] # selects the milli seconds and drops the microseconds from time.\n",
    "            ts = time.time() - t0 # computes relative time\n",
    "            self.TimeList.append(ts)\n",
    "            self.newFrame = []\n",
    "\n",
    "\n",
    "def fftTransform(tempList, timeList): # This is global fn.\n",
    "    if(len(tempList) > 150):\n",
    "        L = len(tempList)\n",
    "        fps = float(L) / (timeList[-1] - timeList[0]) # Sampling rate = length of samples/[Time between first and last samples]\n",
    "\n",
    "        even_times = np.linspace(timeList[0], timeList[-1], L) # Create Evenly spaced TimeStamps\n",
    "        interpolated = np.interp(even_times, timeList, tempList) # Linearly interpolate the data according to new TimeStamps\n",
    "        # Avg of the above(line #46) \"interpolated\" is body Temperature\n",
    "\n",
    "        interpolated = np.hamming(L) * interpolated # Apply Hamming window to signal (elementwise multiplication)\n",
    "        interpolated = interpolated - np.mean(interpolated) # normalising the results\n",
    "        # Now we have only non DC components left after normalise\n",
    "\n",
    "        raw = np.fft.rfft(interpolated) # Compute FFT of interpolated\n",
    "        # phase = np.angle(raw)\n",
    "        mag = np.abs(raw) # Obtaining magnitude of complex FFT\n",
    "        freqs = (float(fps) / L) * np.arange((L/2) + 1) # Obtain Freqs in Hz\n",
    "\n",
    "        # freqs = 60. * freqs # convert freqs into bpm\n",
    "        # Obtaining Heart rate\n",
    "        idx = np.where((freqs > 1) & (freqs < 4)) # Find indices where freqs in range (1,4) Hz\n",
    "\n",
    "        pruned = mag[idx] # Prune the magnitudes\n",
    "        pfreq = freqs[idx] # Prune the Freqs\n",
    "\n",
    "        idx2 = np.argmax(pruned) # Obtain index for max magnitude\n",
    "        heart_rate_bpm = pfreq[idx2] * 60 # Beats Per Minute is Heart Rate corresponding to the max magnitude\n",
    "\n",
    "        # Obtaining Respirotion rate\n",
    "        idx3 = np.where((freqs > 0.5) & (freqs <= 1)) # Find indices where freqs in range (0.5,1] Hz\n",
    "\n",
    "        pruned_RR = mag[idx3]\n",
    "        pfreq_RR = freqs[idx3]\n",
    "\n",
    "        idx4 = np.argmax(pruned_RR)\n",
    "        respiration_rate_pm = pfreq_RR[idx4] * 60\n",
    "\n",
    "        return heart_rate_bpm, respiration_rate_pm\n",
    "    else:\n",
    "        return None\n",
    "\n",
    "\n",
    "def main():\n",
    "    # Capture IR images\n",
    "    l = thermalFrame()\n",
    "    I = []\n",
    "    t0 = time.time()\n",
    "    for i in range(1,301):\n",
    "        l.captureFrame()\n",
    "        l.processData(t0)\n",
    "        time.sleep(0.1) # Delay\n",
    "        I.append(i) # Frame number\n",
    "\n",
    "    # Perform FFT to compute Heart Rate in Beats per Minute\n",
    "    Heart_rate, Resp_rate = fftTransform(l.TempList, l.TimeList)\n",
    "    if((Heart_rate != None) and (Resp_rate != None)):\n",
    "        print(\"Heart Rate: %lf\" % Heart_rate)\n",
    "        print(\"Respiratory Rate: %lf\" % Resp_rate)\n",
    "\n",
    "    # Print Total Number of Frames\n",
    "    TotalFrames = \"Total Number of Frames = %d\" % l.FrameId\n",
    "    print(TotalFrames) # Print entire frame IDs to debug\n",
    "\n",
    "    # Create Pandas DataFrame\n",
    "    sheet = {'Frame Number':I, 'Frame TimeStamp':l.TimeList, 'Average Frame Temperature':l.TempList}\n",
    "    data = pd.DataFrame(sheet, columns = ['Frame Number','Frame TimeStamp','Average Frame Temperature'])\n",
    "    print(data.head())\n",
    "\n",
    "    # Save Timestamps and number of Frames as CSV file\n",
    "    data.to_csv(r'Capture_Meta.csv', index=True, header=True)\n",
    "\n",
    "if __name__== \"__main__\":\n",
    "  main()\n"
   ]
  },
  {
   "cell_type": "code",
   "execution_count": null,
   "metadata": {},
   "outputs": [],
   "source": []
  },
  {
   "cell_type": "code",
   "execution_count": null,
   "metadata": {},
   "outputs": [],
   "source": []
  },
  {
   "cell_type": "code",
   "execution_count": null,
   "metadata": {},
   "outputs": [],
   "source": []
  },
  {
   "cell_type": "code",
   "execution_count": null,
   "metadata": {},
   "outputs": [],
   "source": []
  },
  {
   "cell_type": "code",
   "execution_count": null,
   "metadata": {},
   "outputs": [],
   "source": []
  },
  {
   "cell_type": "code",
   "execution_count": null,
   "metadata": {},
   "outputs": [],
   "source": []
  },
  {
   "cell_type": "code",
   "execution_count": null,
   "metadata": {},
   "outputs": [],
   "source": []
  },
  {
   "cell_type": "code",
   "execution_count": null,
   "metadata": {},
   "outputs": [],
   "source": [
    "# Capture Frames\n",
    "\n",
    "# Obtain area of Interest\n",
    "\n",
    "# Obtain 1 point per frame per area of Interest\n",
    "\n",
    "# Perform FFT to obtain heart rate, resp rate, other vitals. Integrate them.\n",
    "\n"
   ]
  }
 ],
 "metadata": {
  "kernelspec": {
   "display_name": "Python 3",
   "language": "python",
   "name": "python3"
  },
  "language_info": {
   "codemirror_mode": {
    "name": "ipython",
    "version": 3
   },
   "file_extension": ".py",
   "mimetype": "text/x-python",
   "name": "python",
   "nbconvert_exporter": "python",
   "pygments_lexer": "ipython3",
   "version": "3.7.3"
  }
 },
 "nbformat": 4,
 "nbformat_minor": 4
}
